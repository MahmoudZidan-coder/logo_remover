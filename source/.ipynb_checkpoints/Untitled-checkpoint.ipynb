{
 "cells": [
  {
   "cell_type": "code",
   "execution_count": 38,
   "id": "9405e446-940b-44ac-ba9c-ec892751b86e",
   "metadata": {},
   "outputs": [],
   "source": [
    "from ultralytics import YOLO\n",
    "from ultralytics.utils.ops import scale_image\n",
    "import cv2\n",
    "import numpy as np\n",
    "import matplotlib.pyplot as plt"
   ]
  },
  {
   "cell_type": "code",
   "execution_count": 86,
   "id": "fb31dbd4-6023-4dfb-90eb-71f099caf2cc",
   "metadata": {},
   "outputs": [],
   "source": [
    "def remove_logo(model_path, img_src, img_dest, conf):\n",
    "\n",
    "    model = YOLO(model_path)\n",
    "    img = cv2.imread(img_src)\n",
    "    \n",
    "    result = model(img, conf=conf)[0]\n",
    "    boxes = result.boxes.xyxy.cpu().numpy()\n",
    "\n",
    "\n",
    "    x_min, y_min, x_max, y_max = int(boxes[0][0]), int(boxes[0][1]), int(boxes[0][2]), int(boxes[0][3])\n",
    "    img[y_min:y_max, x_min:x_max] = img[y_max,x_max]\n",
    "\n",
    "    cv2.imwrite(img_dest, img)\n",
    "    \n",
    "    return img"
   ]
  },
  {
   "cell_type": "code",
   "execution_count": 87,
   "id": "abd55a24-360a-44cf-b86d-ae1deee120bf",
   "metadata": {},
   "outputs": [
    {
     "name": "stdout",
     "output_type": "stream",
     "text": [
      "\n",
      "0: 288x640 1 logo, 47.0ms\n",
      "Speed: 2.0ms preprocess, 47.0ms inference, 1.0ms postprocess per image at shape (1, 3, 288, 640)\n"
     ]
    }
   ],
   "source": [
    "src =  r\"D:\\Edu\\ITI\\efg task\\test\\images\\WhatsApp Image 2024-05-14 at 12.40.26 AM (4).jpeg\"\n",
    "dest = \"image.jpg\"\n",
    "img = remove_logo(\"logo_detector.pt\",src, dest, conf=0.55)"
   ]
  },
  {
   "cell_type": "code",
   "execution_count": 74,
   "id": "45d14a01-4185-4e68-ab53-7bc7d86f17d4",
   "metadata": {},
   "outputs": [
    {
     "data": {
      "text/plain": [
       "186"
      ]
     },
     "execution_count": 74,
     "metadata": {},
     "output_type": "execute_result"
    }
   ],
   "source": [
    "max_index = np.argmax(hist_b)\n",
    "max_index"
   ]
  }
 ],
 "metadata": {
  "kernelspec": {
   "display_name": "Python 3 (ipykernel)",
   "language": "python",
   "name": "python3"
  },
  "language_info": {
   "codemirror_mode": {
    "name": "ipython",
    "version": 3
   },
   "file_extension": ".py",
   "mimetype": "text/x-python",
   "name": "python",
   "nbconvert_exporter": "python",
   "pygments_lexer": "ipython3",
   "version": "3.12.3"
  }
 },
 "nbformat": 4,
 "nbformat_minor": 5
}
